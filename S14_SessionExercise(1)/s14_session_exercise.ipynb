{
 "cells": [
  {
   "cell_type": "markdown",
   "source": [
    "<table border=\"0\" style=\"width:100%\">\n",
    " <tr>\n",
    "    <td>\n",
    "        <img src=\"https://static-frm.ie.edu/university/wp-content/uploads/sites/6/2022/06/IE-University-logo.png\" width=150>\n",
    "     </td>\n",
    "    <td><div style=\"font-family:'Courier New'\">\n",
    "            <div style=\"font-size:25px\">\n",
    "                <div style=\"text-align: right\">\n",
    "                    <b> MASTER IN BIG DATA</b>\n",
    "                    <br>\n",
    "                    Python for Data Analysis II\n",
    "                    <br><br>\n",
    "                    <em> Daniel Sierra Ramos </em>\n",
    "                </div>\n",
    "            </div>\n",
    "        </div>\n",
    "    </td>\n",
    " </tr>\n",
    "</table>"
   ],
   "metadata": {
    "collapsed": false
   }
  },
  {
   "cell_type": "code",
   "execution_count": 53,
   "outputs": [],
   "source": [
    "import json\n",
    "import zipfile\n",
    "import geopandas\n",
    "\n",
    "import numpy as np\n",
    "import pandas as pd\n",
    "\n",
    "import plotly.express as px\n",
    "\n",
    "import streamlit as st"
   ],
   "metadata": {
    "collapsed": false
   }
  },
  {
   "cell_type": "markdown",
   "source": [
    "## **Streamlit** App with Uber data\n",
    "\n",
    "Build a Streamlit app to represent some charts about using public Uber data. This data contains information about the average travel time of Uber rides between all neighborhoods in MAdrid city.\n",
    "\n",
    "The app must have the following characteristics\n",
    " - Main frame must show 3 charts given a `SOURCE` and `DESTINATION`:\n",
    "    1. Time series of the average travel time\n",
    "    2. Bar chart of the average travel time for every weekday, and period of the day\n",
    "    3. **(Optional)** Choropleth map of Madrid city, with the source and destination highlighted\n",
    " - A side bar containing two box selectors to select the `SOURCE` and `DESTINATION`\n",
    " - Every time a source or a destination is selected, the charts of the main frame should be updated accordingly.\n",
    "\n",
    " NOTE: I recommend you to build the charts first here in the notebook, and then copy the code to the Streamlit app."
   ],
   "metadata": {
    "collapsed": false
   }
  },
  {
   "cell_type": "markdown",
   "source": [
    "### Load data\n",
    "\n",
    "Use the following function to load the data. For the first two figures you will need just the `data` variable. For the choropleth map you will need the `codes` variable and the `geopandas` library to work with maps (this is optional)."
   ],
   "metadata": {
    "collapsed": false
   }
  },
  {
   "cell_type": "code",
   "execution_count": 54,
   "outputs": [],
   "source": [
    "def read_and_preprocess_data():\n",
    "\n",
    "    with zipfile.ZipFile('data/uber-data.zip') as zip:\n",
    "        with zip.open('madrid-barrios-2020-1-All-DatesByHourBucketsAggregate.csv') as csv:\n",
    "            data = pd.read_csv(csv)\n",
    "        with zip.open('madrid_barrios.json') as geojson:\n",
    "            codes = geopandas.read_file(geojson, encoding=\"utf-8\")\n",
    "\n",
    "    # change data types in codes because they are not the same as in data\n",
    "    codes['GEOCODIGO'] = codes['GEOCODIGO'].astype(int)\n",
    "    codes['MOVEMENT_ID'] = codes['MOVEMENT_ID'].astype(int)\n",
    "\n",
    "    codes[\"DISPLAY_NAME\"] = codes[\"DISPLAY_NAME\"].str.split().str[1:].str.join(\" \")\n",
    "\n",
    "    # Merge the data with the codes (source)\n",
    "    data = data.merge(codes[[\"GEOCODIGO\",\"MOVEMENT_ID\",\"DISPLAY_NAME\"]], left_on=\"sourceid\", right_on=\"MOVEMENT_ID\", how=\"left\")\n",
    "    data = data.rename(columns={\"GEOCODIGO\":\"src_neigh_code\", \"DISPLAY_NAME\":\"src_neigh_name\"}).drop(columns=[\"MOVEMENT_ID\"])\n",
    "\n",
    "    data = data.merge(codes[[\"GEOCODIGO\",\"MOVEMENT_ID\",\"DISPLAY_NAME\"]], left_on=\"dstid\", right_on=\"MOVEMENT_ID\", how=\"left\")\n",
    "    data = data.rename(columns={\"GEOCODIGO\":\"dst_neigh_code\", \"DISPLAY_NAME\":\"dst_neigh_name\"}).drop(columns=[\"MOVEMENT_ID\"])\n",
    "\n",
    "    # Create a new date column\n",
    "    data[\"year\"] = \"2020\"\n",
    "    data[\"date\"] = pd.to_datetime(data[\"day\"].astype(str)+data[\"month\"].astype(str)+data[\"year\"].astype(str)+\":\"+data[\"start_hour\"].astype(str), format=\"%d%m%Y:%H\")\n",
    "\n",
    "    # Create a new day_period column\n",
    "    data[\"day_period\"] = data.start_hour.astype(str) + \"-\" + data.end_hour.astype(str)\n",
    "    data[\"day_of_week\"] = data.date.dt.weekday\n",
    "    data[\"day_of_week_str\"] = data.date.dt.day_name()\n",
    "\n",
    "    return data, codes"
   ],
   "metadata": {
    "collapsed": false
   }
  },
  {
   "cell_type": "markdown",
   "source": [
    "### Travel by Time and Day"
   ],
   "metadata": {
    "collapsed": false
   }
  },
  {
   "cell_type": "code",
   "execution_count": 55,
   "outputs": [],
   "source": [
    "data, codes = read_and_preprocess_data()"
   ],
   "metadata": {
    "collapsed": false
   }
  },
  {
   "cell_type": "code",
   "execution_count": 56,
   "outputs": [
    {
     "data": {
      "text/plain": "    sourceid  dstid  month  day  start_hour  end_hour  mean_travel_time  \\\n0         75     12      1   25          10        16            838.25   \n1         20     19      1   23           7        10            567.20   \n2         52      9      2    8           0         7            470.88   \n3         20     19      2   13           7        10            658.88   \n4         14     25      1   26          10        16            519.17   \n5         80    124      1    2          16        19            696.37   \n6         52      9      1   18           0         7            470.06   \n7         70     62      1   25          10        16            430.79   \n8         70     62      2   15          10        16            450.68   \n9         51     16      1    1          10        16            923.14   \n10        50     26      1    1          10        16            931.29   \n11        71     52      3    5          10        16            863.50   \n12         5    115      2   16          10        16            953.79   \n13        70     62      3    5          10        16            469.86   \n14         5     39      3   22           7        10            158.58   \n15        69      1      2   22           0         7            792.11   \n16        74     22      3    5          10        16            416.40   \n17         5    115      1   26          10        16            900.73   \n18       123    101      3   14           7        10             89.42   \n19       123    101      2   24           7        10            327.35   \n\n    standard_deviation_travel_time  geometric_mean_travel_time  \\\n0                           324.30                      776.22   \n1                           278.07                      504.47   \n2                           268.89                      412.66   \n3                           569.66                      524.05   \n4                           240.26                      478.95   \n5                           354.81                      640.21   \n6                           229.17                      422.46   \n7                           183.51                      390.22   \n8                           195.78                      412.38   \n9                           454.90                      843.03   \n10                          543.92                      781.22   \n11                          317.73                      792.52   \n12                          408.45                      885.84   \n13                          128.87                      451.71   \n14                          101.55                      131.10   \n15                          129.22                      781.12   \n16                          120.66                      401.56   \n17                          248.59                      870.88   \n18                           71.44                       66.94   \n19                          348.50                      156.45   \n\n    geometric_standard_deviation_travel_time  src_neigh_code src_neigh_name  \\\n0                                       1.49           79123     San Fermín   \n1                                       1.63           79041      Recoletos   \n2                                       1.64           79091  Casa de Campo   \n3                                       1.82           79041      Recoletos   \n4                                       1.46           79031       Pacífico   \n5                                       1.44           79131      Entrevías   \n6                                       1.58           79091  Casa de Campo   \n7                                       1.58           79115  Puerta Bonita   \n8                                       1.52           79115  Puerta Bonita   \n9                                       1.49           79088      El Goloso   \n10                                      1.82           79087     Mirasierra   \n11                                      1.56           79116     Buenavista   \n12                                      1.45           79015    Universidad   \n13                                      1.33           79115  Puerta Bonita   \n14                                      1.86           79015    Universidad   \n15                                      1.18           79114   Vista Alegre   \n16                                      1.30           79122        Orcasur   \n17                                      1.29           79015    Universidad   \n18                                      2.57           79205          Rosas   \n19                                      4.23           79205          Rosas   \n\n    dst_neigh_code                dst_neigh_name  year                date  \\\n0            79026               Palos de Moguer  2020 2020-01-25 10:00:00   \n1            79036                    Niño Jesús  2020 2020-01-23 07:00:00   \n2            79023                    La Chopera  2020 2020-02-08 00:00:00   \n3            79036                    Niño Jesús  2020 2020-02-13 07:00:00   \n4            79046                    Castellana  2020 2020-01-26 10:00:00   \n5            79206                         Rejas  2020 2020-01-02 16:00:00   \n6            79023                    La Chopera  2020 2020-01-18 00:00:00   \n7            79104                        Aluche  2020 2020-01-25 10:00:00   \n8            79104                        Aluche  2020 2020-02-15 10:00:00   \n9            79033                      Estrella  2020 2020-01-01 10:00:00   \n10           79051                       El Viso  2020 2020-01-01 10:00:00   \n11           79091                 Casa de Campo  2020 2020-03-05 10:00:00   \n12           79191  Casco Histórico de Vicálvaro  2020 2020-02-16 10:00:00   \n13           79104                        Aluche  2020 2020-03-05 10:00:00   \n14           79072                      Arapiles  2020 2020-03-22 07:00:00   \n15           79011                       Palacio  2020 2020-02-22 00:00:00   \n16           79043              Fuente del Berro  2020 2020-03-05 10:00:00   \n17           79191  Casco Histórico de Vicálvaro  2020 2020-01-26 10:00:00   \n18           79161                       Palomas  2020 2020-03-14 07:00:00   \n19           79161                       Palomas  2020 2020-02-24 07:00:00   \n\n   day_period  day_of_week day_of_week_str  \n0       10-16            5        Saturday  \n1        7-10            3        Thursday  \n2         0-7            5        Saturday  \n3        7-10            3        Thursday  \n4       10-16            6          Sunday  \n5       16-19            3        Thursday  \n6         0-7            5        Saturday  \n7       10-16            5        Saturday  \n8       10-16            5        Saturday  \n9       10-16            2       Wednesday  \n10      10-16            2       Wednesday  \n11      10-16            3        Thursday  \n12      10-16            6          Sunday  \n13      10-16            3        Thursday  \n14       7-10            6          Sunday  \n15        0-7            5        Saturday  \n16      10-16            3        Thursday  \n17      10-16            6          Sunday  \n18       7-10            5        Saturday  \n19       7-10            0          Monday  ",
      "text/html": "<div>\n<style scoped>\n    .dataframe tbody tr th:only-of-type {\n        vertical-align: middle;\n    }\n\n    .dataframe tbody tr th {\n        vertical-align: top;\n    }\n\n    .dataframe thead th {\n        text-align: right;\n    }\n</style>\n<table border=\"1\" class=\"dataframe\">\n  <thead>\n    <tr style=\"text-align: right;\">\n      <th></th>\n      <th>sourceid</th>\n      <th>dstid</th>\n      <th>month</th>\n      <th>day</th>\n      <th>start_hour</th>\n      <th>end_hour</th>\n      <th>mean_travel_time</th>\n      <th>standard_deviation_travel_time</th>\n      <th>geometric_mean_travel_time</th>\n      <th>geometric_standard_deviation_travel_time</th>\n      <th>src_neigh_code</th>\n      <th>src_neigh_name</th>\n      <th>dst_neigh_code</th>\n      <th>dst_neigh_name</th>\n      <th>year</th>\n      <th>date</th>\n      <th>day_period</th>\n      <th>day_of_week</th>\n      <th>day_of_week_str</th>\n    </tr>\n  </thead>\n  <tbody>\n    <tr>\n      <th>0</th>\n      <td>75</td>\n      <td>12</td>\n      <td>1</td>\n      <td>25</td>\n      <td>10</td>\n      <td>16</td>\n      <td>838.25</td>\n      <td>324.30</td>\n      <td>776.22</td>\n      <td>1.49</td>\n      <td>79123</td>\n      <td>San Fermín</td>\n      <td>79026</td>\n      <td>Palos de Moguer</td>\n      <td>2020</td>\n      <td>2020-01-25 10:00:00</td>\n      <td>10-16</td>\n      <td>5</td>\n      <td>Saturday</td>\n    </tr>\n    <tr>\n      <th>1</th>\n      <td>20</td>\n      <td>19</td>\n      <td>1</td>\n      <td>23</td>\n      <td>7</td>\n      <td>10</td>\n      <td>567.20</td>\n      <td>278.07</td>\n      <td>504.47</td>\n      <td>1.63</td>\n      <td>79041</td>\n      <td>Recoletos</td>\n      <td>79036</td>\n      <td>Niño Jesús</td>\n      <td>2020</td>\n      <td>2020-01-23 07:00:00</td>\n      <td>7-10</td>\n      <td>3</td>\n      <td>Thursday</td>\n    </tr>\n    <tr>\n      <th>2</th>\n      <td>52</td>\n      <td>9</td>\n      <td>2</td>\n      <td>8</td>\n      <td>0</td>\n      <td>7</td>\n      <td>470.88</td>\n      <td>268.89</td>\n      <td>412.66</td>\n      <td>1.64</td>\n      <td>79091</td>\n      <td>Casa de Campo</td>\n      <td>79023</td>\n      <td>La Chopera</td>\n      <td>2020</td>\n      <td>2020-02-08 00:00:00</td>\n      <td>0-7</td>\n      <td>5</td>\n      <td>Saturday</td>\n    </tr>\n    <tr>\n      <th>3</th>\n      <td>20</td>\n      <td>19</td>\n      <td>2</td>\n      <td>13</td>\n      <td>7</td>\n      <td>10</td>\n      <td>658.88</td>\n      <td>569.66</td>\n      <td>524.05</td>\n      <td>1.82</td>\n      <td>79041</td>\n      <td>Recoletos</td>\n      <td>79036</td>\n      <td>Niño Jesús</td>\n      <td>2020</td>\n      <td>2020-02-13 07:00:00</td>\n      <td>7-10</td>\n      <td>3</td>\n      <td>Thursday</td>\n    </tr>\n    <tr>\n      <th>4</th>\n      <td>14</td>\n      <td>25</td>\n      <td>1</td>\n      <td>26</td>\n      <td>10</td>\n      <td>16</td>\n      <td>519.17</td>\n      <td>240.26</td>\n      <td>478.95</td>\n      <td>1.46</td>\n      <td>79031</td>\n      <td>Pacífico</td>\n      <td>79046</td>\n      <td>Castellana</td>\n      <td>2020</td>\n      <td>2020-01-26 10:00:00</td>\n      <td>10-16</td>\n      <td>6</td>\n      <td>Sunday</td>\n    </tr>\n    <tr>\n      <th>5</th>\n      <td>80</td>\n      <td>124</td>\n      <td>1</td>\n      <td>2</td>\n      <td>16</td>\n      <td>19</td>\n      <td>696.37</td>\n      <td>354.81</td>\n      <td>640.21</td>\n      <td>1.44</td>\n      <td>79131</td>\n      <td>Entrevías</td>\n      <td>79206</td>\n      <td>Rejas</td>\n      <td>2020</td>\n      <td>2020-01-02 16:00:00</td>\n      <td>16-19</td>\n      <td>3</td>\n      <td>Thursday</td>\n    </tr>\n    <tr>\n      <th>6</th>\n      <td>52</td>\n      <td>9</td>\n      <td>1</td>\n      <td>18</td>\n      <td>0</td>\n      <td>7</td>\n      <td>470.06</td>\n      <td>229.17</td>\n      <td>422.46</td>\n      <td>1.58</td>\n      <td>79091</td>\n      <td>Casa de Campo</td>\n      <td>79023</td>\n      <td>La Chopera</td>\n      <td>2020</td>\n      <td>2020-01-18 00:00:00</td>\n      <td>0-7</td>\n      <td>5</td>\n      <td>Saturday</td>\n    </tr>\n    <tr>\n      <th>7</th>\n      <td>70</td>\n      <td>62</td>\n      <td>1</td>\n      <td>25</td>\n      <td>10</td>\n      <td>16</td>\n      <td>430.79</td>\n      <td>183.51</td>\n      <td>390.22</td>\n      <td>1.58</td>\n      <td>79115</td>\n      <td>Puerta Bonita</td>\n      <td>79104</td>\n      <td>Aluche</td>\n      <td>2020</td>\n      <td>2020-01-25 10:00:00</td>\n      <td>10-16</td>\n      <td>5</td>\n      <td>Saturday</td>\n    </tr>\n    <tr>\n      <th>8</th>\n      <td>70</td>\n      <td>62</td>\n      <td>2</td>\n      <td>15</td>\n      <td>10</td>\n      <td>16</td>\n      <td>450.68</td>\n      <td>195.78</td>\n      <td>412.38</td>\n      <td>1.52</td>\n      <td>79115</td>\n      <td>Puerta Bonita</td>\n      <td>79104</td>\n      <td>Aluche</td>\n      <td>2020</td>\n      <td>2020-02-15 10:00:00</td>\n      <td>10-16</td>\n      <td>5</td>\n      <td>Saturday</td>\n    </tr>\n    <tr>\n      <th>9</th>\n      <td>51</td>\n      <td>16</td>\n      <td>1</td>\n      <td>1</td>\n      <td>10</td>\n      <td>16</td>\n      <td>923.14</td>\n      <td>454.90</td>\n      <td>843.03</td>\n      <td>1.49</td>\n      <td>79088</td>\n      <td>El Goloso</td>\n      <td>79033</td>\n      <td>Estrella</td>\n      <td>2020</td>\n      <td>2020-01-01 10:00:00</td>\n      <td>10-16</td>\n      <td>2</td>\n      <td>Wednesday</td>\n    </tr>\n    <tr>\n      <th>10</th>\n      <td>50</td>\n      <td>26</td>\n      <td>1</td>\n      <td>1</td>\n      <td>10</td>\n      <td>16</td>\n      <td>931.29</td>\n      <td>543.92</td>\n      <td>781.22</td>\n      <td>1.82</td>\n      <td>79087</td>\n      <td>Mirasierra</td>\n      <td>79051</td>\n      <td>El Viso</td>\n      <td>2020</td>\n      <td>2020-01-01 10:00:00</td>\n      <td>10-16</td>\n      <td>2</td>\n      <td>Wednesday</td>\n    </tr>\n    <tr>\n      <th>11</th>\n      <td>71</td>\n      <td>52</td>\n      <td>3</td>\n      <td>5</td>\n      <td>10</td>\n      <td>16</td>\n      <td>863.50</td>\n      <td>317.73</td>\n      <td>792.52</td>\n      <td>1.56</td>\n      <td>79116</td>\n      <td>Buenavista</td>\n      <td>79091</td>\n      <td>Casa de Campo</td>\n      <td>2020</td>\n      <td>2020-03-05 10:00:00</td>\n      <td>10-16</td>\n      <td>3</td>\n      <td>Thursday</td>\n    </tr>\n    <tr>\n      <th>12</th>\n      <td>5</td>\n      <td>115</td>\n      <td>2</td>\n      <td>16</td>\n      <td>10</td>\n      <td>16</td>\n      <td>953.79</td>\n      <td>408.45</td>\n      <td>885.84</td>\n      <td>1.45</td>\n      <td>79015</td>\n      <td>Universidad</td>\n      <td>79191</td>\n      <td>Casco Histórico de Vicálvaro</td>\n      <td>2020</td>\n      <td>2020-02-16 10:00:00</td>\n      <td>10-16</td>\n      <td>6</td>\n      <td>Sunday</td>\n    </tr>\n    <tr>\n      <th>13</th>\n      <td>70</td>\n      <td>62</td>\n      <td>3</td>\n      <td>5</td>\n      <td>10</td>\n      <td>16</td>\n      <td>469.86</td>\n      <td>128.87</td>\n      <td>451.71</td>\n      <td>1.33</td>\n      <td>79115</td>\n      <td>Puerta Bonita</td>\n      <td>79104</td>\n      <td>Aluche</td>\n      <td>2020</td>\n      <td>2020-03-05 10:00:00</td>\n      <td>10-16</td>\n      <td>3</td>\n      <td>Thursday</td>\n    </tr>\n    <tr>\n      <th>14</th>\n      <td>5</td>\n      <td>39</td>\n      <td>3</td>\n      <td>22</td>\n      <td>7</td>\n      <td>10</td>\n      <td>158.58</td>\n      <td>101.55</td>\n      <td>131.10</td>\n      <td>1.86</td>\n      <td>79015</td>\n      <td>Universidad</td>\n      <td>79072</td>\n      <td>Arapiles</td>\n      <td>2020</td>\n      <td>2020-03-22 07:00:00</td>\n      <td>7-10</td>\n      <td>6</td>\n      <td>Sunday</td>\n    </tr>\n    <tr>\n      <th>15</th>\n      <td>69</td>\n      <td>1</td>\n      <td>2</td>\n      <td>22</td>\n      <td>0</td>\n      <td>7</td>\n      <td>792.11</td>\n      <td>129.22</td>\n      <td>781.12</td>\n      <td>1.18</td>\n      <td>79114</td>\n      <td>Vista Alegre</td>\n      <td>79011</td>\n      <td>Palacio</td>\n      <td>2020</td>\n      <td>2020-02-22 00:00:00</td>\n      <td>0-7</td>\n      <td>5</td>\n      <td>Saturday</td>\n    </tr>\n    <tr>\n      <th>16</th>\n      <td>74</td>\n      <td>22</td>\n      <td>3</td>\n      <td>5</td>\n      <td>10</td>\n      <td>16</td>\n      <td>416.40</td>\n      <td>120.66</td>\n      <td>401.56</td>\n      <td>1.30</td>\n      <td>79122</td>\n      <td>Orcasur</td>\n      <td>79043</td>\n      <td>Fuente del Berro</td>\n      <td>2020</td>\n      <td>2020-03-05 10:00:00</td>\n      <td>10-16</td>\n      <td>3</td>\n      <td>Thursday</td>\n    </tr>\n    <tr>\n      <th>17</th>\n      <td>5</td>\n      <td>115</td>\n      <td>1</td>\n      <td>26</td>\n      <td>10</td>\n      <td>16</td>\n      <td>900.73</td>\n      <td>248.59</td>\n      <td>870.88</td>\n      <td>1.29</td>\n      <td>79015</td>\n      <td>Universidad</td>\n      <td>79191</td>\n      <td>Casco Histórico de Vicálvaro</td>\n      <td>2020</td>\n      <td>2020-01-26 10:00:00</td>\n      <td>10-16</td>\n      <td>6</td>\n      <td>Sunday</td>\n    </tr>\n    <tr>\n      <th>18</th>\n      <td>123</td>\n      <td>101</td>\n      <td>3</td>\n      <td>14</td>\n      <td>7</td>\n      <td>10</td>\n      <td>89.42</td>\n      <td>71.44</td>\n      <td>66.94</td>\n      <td>2.57</td>\n      <td>79205</td>\n      <td>Rosas</td>\n      <td>79161</td>\n      <td>Palomas</td>\n      <td>2020</td>\n      <td>2020-03-14 07:00:00</td>\n      <td>7-10</td>\n      <td>5</td>\n      <td>Saturday</td>\n    </tr>\n    <tr>\n      <th>19</th>\n      <td>123</td>\n      <td>101</td>\n      <td>2</td>\n      <td>24</td>\n      <td>7</td>\n      <td>10</td>\n      <td>327.35</td>\n      <td>348.50</td>\n      <td>156.45</td>\n      <td>4.23</td>\n      <td>79205</td>\n      <td>Rosas</td>\n      <td>79161</td>\n      <td>Palomas</td>\n      <td>2020</td>\n      <td>2020-02-24 07:00:00</td>\n      <td>7-10</td>\n      <td>0</td>\n      <td>Monday</td>\n    </tr>\n  </tbody>\n</table>\n</div>"
     },
     "execution_count": 56,
     "metadata": {},
     "output_type": "execute_result"
    }
   ],
   "source": [
    "data.head(20)"
   ],
   "metadata": {
    "collapsed": false
   }
  },
  {
   "cell_type": "code",
   "execution_count": 57,
   "outputs": [
    {
     "name": "stdout",
     "output_type": "stream",
     "text": [
      "<class 'pandas.core.frame.DataFrame'>\n",
      "Int64Index: 2285185 entries, 0 to 2285184\n",
      "Data columns (total 19 columns):\n",
      " #   Column                                    Dtype         \n",
      "---  ------                                    -----         \n",
      " 0   sourceid                                  int64         \n",
      " 1   dstid                                     int64         \n",
      " 2   month                                     int64         \n",
      " 3   day                                       int64         \n",
      " 4   start_hour                                int64         \n",
      " 5   end_hour                                  int64         \n",
      " 6   mean_travel_time                          float64       \n",
      " 7   standard_deviation_travel_time            float64       \n",
      " 8   geometric_mean_travel_time                float64       \n",
      " 9   geometric_standard_deviation_travel_time  float64       \n",
      " 10  src_neigh_code                            int64         \n",
      " 11  src_neigh_name                            object        \n",
      " 12  dst_neigh_code                            int64         \n",
      " 13  dst_neigh_name                            object        \n",
      " 14  year                                      object        \n",
      " 15  date                                      datetime64[ns]\n",
      " 16  day_period                                object        \n",
      " 17  day_of_week                               int64         \n",
      " 18  day_of_week_str                           object        \n",
      "dtypes: datetime64[ns](1), float64(4), int64(9), object(5)\n",
      "memory usage: 348.7+ MB\n"
     ]
    }
   ],
   "source": [
    "data.info()"
   ],
   "metadata": {
    "collapsed": false
   }
  },
  {
   "cell_type": "code",
   "execution_count": 58,
   "outputs": [
    {
     "data": {
      "text/plain": "array(['Abrantes', 'Adelfas', 'Aeropuerto', 'Alameda de Osuna', 'Almagro',\n       'Almenara', 'Almendrales', 'Aluche', 'Amposta', 'Apóstol Santiago',\n       'Arapiles', 'Aravaca', 'Arcos', 'Argüelles', 'Atalaya', 'Atocha',\n       'Bellas Vistas', 'Berruguete', 'Buenavista', 'Butarque',\n       'Campamento', 'Canillas', 'Canillejas', 'Casa de Campo',\n       'Casco Histórico de Barajas', 'Casco Histórico de Vallecas',\n       'Casco Histórico de Vicálvaro', 'Castellana', 'Castilla',\n       'Castillejos', 'Ciudad Jardín', 'Ciudad Universitaria', 'Colina',\n       'Comillas', 'Concepción', 'Corralejos', 'Cortes', 'Costillares',\n       'Cuatro Caminos', 'Cuatro Vientos', 'Delicias', 'El Cañaveral',\n       'El Goloso', 'El Pardo', 'El Pilar', 'El Plantío', 'El Salvador',\n       'El Viso', 'Embajadores', 'Ensanche de Vallecas', 'Entrevías',\n       'Estrella', 'Fontarrón', 'Fuente del Berro', 'Fuentelarreina',\n       'Gaztambide', 'Goya', 'Guindalera', 'Hellín', 'Hispanoamérica',\n       'Horcajo', 'Ibiza', 'Imperial', 'Jerónimos', 'Justicia',\n       'La Chopera', 'La Paz', 'Las Acacias', 'Las Águilas', 'Legazpi',\n       'Lista', 'Los Cármenes', 'Los Rosales', 'Los Ángeles', 'Lucero',\n       'Marroquina', 'Media Legua', 'Mirasierra', 'Moscardó',\n       'Niño Jesús', 'Nueva España', 'Numancia', 'Opañel', 'Orcasitas',\n       'Orcasur', 'Pacífico', 'Palacio', 'Palomas', 'Palomeras Bajas',\n       'Palomeras Sureste', 'Palos de Moguer', 'Pavones', 'Peña Grande',\n       'Pinar del Rey', 'Piovera', 'Portazgo', 'Pradolongo',\n       'Prosperidad', 'Pueblo Nuevo', 'Puerta Bonita', 'Puerta del Ángel',\n       'Quintana', 'Recoletos', 'Rejas', 'Rosas', 'Ríos Rosas',\n       'San Andrés', 'San Cristóbal', 'San Diego', 'San Fermín',\n       'San Isidro', 'San Juan Bautista', 'San Pascual', 'Santa Eugenia',\n       'Simancas', 'Sol', 'Timón', 'Trafalgar', 'Universidad',\n       'Valdeacederas', 'Valdebernardo', 'Valdefuentes', 'Valdemarín',\n       'Valderrivas', 'Valdezarza', 'Vallehermoso', 'Valverde', 'Ventas',\n       'Vinateros', 'Vista Alegre', 'Zofío'], dtype=object)"
     },
     "execution_count": 58,
     "metadata": {},
     "output_type": "execute_result"
    }
   ],
   "source": [
    "origin = data.src_neigh_name.sort_values().unique()\n",
    "destination = data.dst_neigh_name.unique()\n",
    "\n",
    "origin"
   ],
   "metadata": {
    "collapsed": false
   }
  },
  {
   "cell_type": "code",
   "execution_count": 59,
   "outputs": [],
   "source": [
    "#plot average travel time by date, for a given source and destination"
   ],
   "metadata": {
    "collapsed": false
   }
  },
  {
   "cell_type": "code",
   "execution_count": 60,
   "outputs": [
    {
     "data": {
      "text/plain": "                     mean_travel_time\ndate                                 \n2020-01-01 00:00:00         16.016667\n2020-01-01 07:00:00         11.066667\n2020-01-01 10:00:00         10.666667\n2020-01-01 16:00:00          9.000000\n2020-01-01 19:00:00          9.833333\n...                               ...\n2020-03-31 00:00:00          5.200000\n2020-03-31 07:00:00          5.583333\n2020-03-31 10:00:00          6.233333\n2020-03-31 16:00:00          5.916667\n2020-03-31 19:00:00          6.466667\n\n[455 rows x 1 columns]",
      "text/html": "<div>\n<style scoped>\n    .dataframe tbody tr th:only-of-type {\n        vertical-align: middle;\n    }\n\n    .dataframe tbody tr th {\n        vertical-align: top;\n    }\n\n    .dataframe thead th {\n        text-align: right;\n    }\n</style>\n<table border=\"1\" class=\"dataframe\">\n  <thead>\n    <tr style=\"text-align: right;\">\n      <th></th>\n      <th>mean_travel_time</th>\n    </tr>\n    <tr>\n      <th>date</th>\n      <th></th>\n    </tr>\n  </thead>\n  <tbody>\n    <tr>\n      <th>2020-01-01 00:00:00</th>\n      <td>16.016667</td>\n    </tr>\n    <tr>\n      <th>2020-01-01 07:00:00</th>\n      <td>11.066667</td>\n    </tr>\n    <tr>\n      <th>2020-01-01 10:00:00</th>\n      <td>10.666667</td>\n    </tr>\n    <tr>\n      <th>2020-01-01 16:00:00</th>\n      <td>9.000000</td>\n    </tr>\n    <tr>\n      <th>2020-01-01 19:00:00</th>\n      <td>9.833333</td>\n    </tr>\n    <tr>\n      <th>...</th>\n      <td>...</td>\n    </tr>\n    <tr>\n      <th>2020-03-31 00:00:00</th>\n      <td>5.200000</td>\n    </tr>\n    <tr>\n      <th>2020-03-31 07:00:00</th>\n      <td>5.583333</td>\n    </tr>\n    <tr>\n      <th>2020-03-31 10:00:00</th>\n      <td>6.233333</td>\n    </tr>\n    <tr>\n      <th>2020-03-31 16:00:00</th>\n      <td>5.916667</td>\n    </tr>\n    <tr>\n      <th>2020-03-31 19:00:00</th>\n      <td>6.466667</td>\n    </tr>\n  </tbody>\n</table>\n<p>455 rows × 1 columns</p>\n</div>"
     },
     "execution_count": 60,
     "metadata": {},
     "output_type": "execute_result"
    }
   ],
   "source": [
    "\n",
    "    # group data by date, keep all columns\n",
    "    data_grouped = data.groupby(\"date\").agg({\"mean_travel_time\":\"mean\"})\n",
    "    # plot\n",
    "    data_grouped.mean_travel_time = data_grouped.mean_travel_time.astype(int)/60\n",
    "\n",
    "    data_grouped"
   ],
   "metadata": {
    "collapsed": false
   }
  },
  {
   "cell_type": "markdown",
   "source": [],
   "metadata": {
    "collapsed": false
   }
  },
  {
   "cell_type": "markdown",
   "source": [
    "### Travel by Time and Day Period"
   ],
   "metadata": {
    "collapsed": false
   }
  },
  {
   "cell_type": "markdown",
   "source": [
    "### Map between source and destination"
   ],
   "metadata": {
    "collapsed": false
   }
  },
  {
   "cell_type": "code",
   "execution_count": 61,
   "outputs": [],
   "source": [
    "import plotly.express as px\n",
    "data_filtered = data[(data.src_neigh_name == \"Aeropuerto\") & (data.dst_neigh_name == \"Recoletos\")]\n",
    "\n",
    "# group data by date, keep all columns\n",
    "data_grouped = data.groupby(\"date\").agg({\"sourceid\":\"count\"}, as_index=False).rename(columns={\"sourceid\":\"trips\"})\n",
    "\n",
    "# merge\n",
    "data_grouped = data_grouped.merge(data[[\"date\",\"src_neigh_name\",\"dst_neigh_name\"]], on=\"date\", how=\"left\")\n"
   ],
   "metadata": {
    "collapsed": false
   }
  },
  {
   "cell_type": "code",
   "execution_count": 62,
   "outputs": [
    {
     "data": {
      "text/plain": "         sourceid  dstid  month  day  start_hour  end_hour  mean_travel_time  \\\n63880         128     20      1    8          16        19           1521.69   \n75733         128     20      1   17          16        19           1410.27   \n75734         128     20      2    7          16        19           1376.25   \n88122         128     20      2   27          19         0           1344.55   \n133603        128     20      3    2           7        10           1211.89   \n...           ...    ...    ...  ...         ...       ...               ...   \n2222651       128     20      2   12          10        16           1127.31   \n2246179       128     20      2    8          16        19           1014.30   \n2246183       128     20      1   18          16        19           1214.52   \n2246391       128     20      1    3          19         0           1050.45   \n2280144       128     20      1   10          16        19           1394.56   \n\n         standard_deviation_travel_time  geometric_mean_travel_time  \\\n63880                            337.01                     1484.19   \n75733                            550.65                     1341.88   \n75734                            242.59                     1357.33   \n88122                            525.71                     1251.98   \n133603                           396.03                     1157.03   \n...                                 ...                         ...   \n2222651                          257.81                     1101.15   \n2246179                          210.94                      993.07   \n2246183                          551.07                     1117.41   \n2246391                          328.40                      963.28   \n2280144                          205.03                     1379.26   \n\n         geometric_standard_deviation_travel_time  src_neigh_code  \\\n63880                                        1.25           79212   \n75733                                        1.34           79212   \n75734                                        1.18           79212   \n88122                                        1.45           79212   \n133603                                       1.34           79212   \n...                                           ...             ...   \n2222651                                      1.24           79212   \n2246179                                      1.23           79212   \n2246183                                      1.48           79212   \n2246391                                      1.72           79212   \n2280144                                      1.16           79212   \n\n        src_neigh_name  dst_neigh_code dst_neigh_name  year  \\\n63880       Aeropuerto           79041      Recoletos  2020   \n75733       Aeropuerto           79041      Recoletos  2020   \n75734       Aeropuerto           79041      Recoletos  2020   \n88122       Aeropuerto           79041      Recoletos  2020   \n133603      Aeropuerto           79041      Recoletos  2020   \n...                ...             ...            ...   ...   \n2222651     Aeropuerto           79041      Recoletos  2020   \n2246179     Aeropuerto           79041      Recoletos  2020   \n2246183     Aeropuerto           79041      Recoletos  2020   \n2246391     Aeropuerto           79041      Recoletos  2020   \n2280144     Aeropuerto           79041      Recoletos  2020   \n\n                       date day_period  day_of_week day_of_week_str  \n63880   2020-01-08 16:00:00      16-19            2       Wednesday  \n75733   2020-01-17 16:00:00      16-19            4          Friday  \n75734   2020-02-07 16:00:00      16-19            4          Friday  \n88122   2020-02-27 19:00:00       19-0            3        Thursday  \n133603  2020-03-02 07:00:00       7-10            0          Monday  \n...                     ...        ...          ...             ...  \n2222651 2020-02-12 10:00:00      10-16            2       Wednesday  \n2246179 2020-02-08 16:00:00      16-19            5        Saturday  \n2246183 2020-01-18 16:00:00      16-19            5        Saturday  \n2246391 2020-01-03 19:00:00       19-0            4          Friday  \n2280144 2020-01-10 16:00:00      16-19            4          Friday  \n\n[362 rows x 19 columns]",
      "text/html": "<div>\n<style scoped>\n    .dataframe tbody tr th:only-of-type {\n        vertical-align: middle;\n    }\n\n    .dataframe tbody tr th {\n        vertical-align: top;\n    }\n\n    .dataframe thead th {\n        text-align: right;\n    }\n</style>\n<table border=\"1\" class=\"dataframe\">\n  <thead>\n    <tr style=\"text-align: right;\">\n      <th></th>\n      <th>sourceid</th>\n      <th>dstid</th>\n      <th>month</th>\n      <th>day</th>\n      <th>start_hour</th>\n      <th>end_hour</th>\n      <th>mean_travel_time</th>\n      <th>standard_deviation_travel_time</th>\n      <th>geometric_mean_travel_time</th>\n      <th>geometric_standard_deviation_travel_time</th>\n      <th>src_neigh_code</th>\n      <th>src_neigh_name</th>\n      <th>dst_neigh_code</th>\n      <th>dst_neigh_name</th>\n      <th>year</th>\n      <th>date</th>\n      <th>day_period</th>\n      <th>day_of_week</th>\n      <th>day_of_week_str</th>\n    </tr>\n  </thead>\n  <tbody>\n    <tr>\n      <th>63880</th>\n      <td>128</td>\n      <td>20</td>\n      <td>1</td>\n      <td>8</td>\n      <td>16</td>\n      <td>19</td>\n      <td>1521.69</td>\n      <td>337.01</td>\n      <td>1484.19</td>\n      <td>1.25</td>\n      <td>79212</td>\n      <td>Aeropuerto</td>\n      <td>79041</td>\n      <td>Recoletos</td>\n      <td>2020</td>\n      <td>2020-01-08 16:00:00</td>\n      <td>16-19</td>\n      <td>2</td>\n      <td>Wednesday</td>\n    </tr>\n    <tr>\n      <th>75733</th>\n      <td>128</td>\n      <td>20</td>\n      <td>1</td>\n      <td>17</td>\n      <td>16</td>\n      <td>19</td>\n      <td>1410.27</td>\n      <td>550.65</td>\n      <td>1341.88</td>\n      <td>1.34</td>\n      <td>79212</td>\n      <td>Aeropuerto</td>\n      <td>79041</td>\n      <td>Recoletos</td>\n      <td>2020</td>\n      <td>2020-01-17 16:00:00</td>\n      <td>16-19</td>\n      <td>4</td>\n      <td>Friday</td>\n    </tr>\n    <tr>\n      <th>75734</th>\n      <td>128</td>\n      <td>20</td>\n      <td>2</td>\n      <td>7</td>\n      <td>16</td>\n      <td>19</td>\n      <td>1376.25</td>\n      <td>242.59</td>\n      <td>1357.33</td>\n      <td>1.18</td>\n      <td>79212</td>\n      <td>Aeropuerto</td>\n      <td>79041</td>\n      <td>Recoletos</td>\n      <td>2020</td>\n      <td>2020-02-07 16:00:00</td>\n      <td>16-19</td>\n      <td>4</td>\n      <td>Friday</td>\n    </tr>\n    <tr>\n      <th>88122</th>\n      <td>128</td>\n      <td>20</td>\n      <td>2</td>\n      <td>27</td>\n      <td>19</td>\n      <td>0</td>\n      <td>1344.55</td>\n      <td>525.71</td>\n      <td>1251.98</td>\n      <td>1.45</td>\n      <td>79212</td>\n      <td>Aeropuerto</td>\n      <td>79041</td>\n      <td>Recoletos</td>\n      <td>2020</td>\n      <td>2020-02-27 19:00:00</td>\n      <td>19-0</td>\n      <td>3</td>\n      <td>Thursday</td>\n    </tr>\n    <tr>\n      <th>133603</th>\n      <td>128</td>\n      <td>20</td>\n      <td>3</td>\n      <td>2</td>\n      <td>7</td>\n      <td>10</td>\n      <td>1211.89</td>\n      <td>396.03</td>\n      <td>1157.03</td>\n      <td>1.34</td>\n      <td>79212</td>\n      <td>Aeropuerto</td>\n      <td>79041</td>\n      <td>Recoletos</td>\n      <td>2020</td>\n      <td>2020-03-02 07:00:00</td>\n      <td>7-10</td>\n      <td>0</td>\n      <td>Monday</td>\n    </tr>\n    <tr>\n      <th>...</th>\n      <td>...</td>\n      <td>...</td>\n      <td>...</td>\n      <td>...</td>\n      <td>...</td>\n      <td>...</td>\n      <td>...</td>\n      <td>...</td>\n      <td>...</td>\n      <td>...</td>\n      <td>...</td>\n      <td>...</td>\n      <td>...</td>\n      <td>...</td>\n      <td>...</td>\n      <td>...</td>\n      <td>...</td>\n      <td>...</td>\n      <td>...</td>\n    </tr>\n    <tr>\n      <th>2222651</th>\n      <td>128</td>\n      <td>20</td>\n      <td>2</td>\n      <td>12</td>\n      <td>10</td>\n      <td>16</td>\n      <td>1127.31</td>\n      <td>257.81</td>\n      <td>1101.15</td>\n      <td>1.24</td>\n      <td>79212</td>\n      <td>Aeropuerto</td>\n      <td>79041</td>\n      <td>Recoletos</td>\n      <td>2020</td>\n      <td>2020-02-12 10:00:00</td>\n      <td>10-16</td>\n      <td>2</td>\n      <td>Wednesday</td>\n    </tr>\n    <tr>\n      <th>2246179</th>\n      <td>128</td>\n      <td>20</td>\n      <td>2</td>\n      <td>8</td>\n      <td>16</td>\n      <td>19</td>\n      <td>1014.30</td>\n      <td>210.94</td>\n      <td>993.07</td>\n      <td>1.23</td>\n      <td>79212</td>\n      <td>Aeropuerto</td>\n      <td>79041</td>\n      <td>Recoletos</td>\n      <td>2020</td>\n      <td>2020-02-08 16:00:00</td>\n      <td>16-19</td>\n      <td>5</td>\n      <td>Saturday</td>\n    </tr>\n    <tr>\n      <th>2246183</th>\n      <td>128</td>\n      <td>20</td>\n      <td>1</td>\n      <td>18</td>\n      <td>16</td>\n      <td>19</td>\n      <td>1214.52</td>\n      <td>551.07</td>\n      <td>1117.41</td>\n      <td>1.48</td>\n      <td>79212</td>\n      <td>Aeropuerto</td>\n      <td>79041</td>\n      <td>Recoletos</td>\n      <td>2020</td>\n      <td>2020-01-18 16:00:00</td>\n      <td>16-19</td>\n      <td>5</td>\n      <td>Saturday</td>\n    </tr>\n    <tr>\n      <th>2246391</th>\n      <td>128</td>\n      <td>20</td>\n      <td>1</td>\n      <td>3</td>\n      <td>19</td>\n      <td>0</td>\n      <td>1050.45</td>\n      <td>328.40</td>\n      <td>963.28</td>\n      <td>1.72</td>\n      <td>79212</td>\n      <td>Aeropuerto</td>\n      <td>79041</td>\n      <td>Recoletos</td>\n      <td>2020</td>\n      <td>2020-01-03 19:00:00</td>\n      <td>19-0</td>\n      <td>4</td>\n      <td>Friday</td>\n    </tr>\n    <tr>\n      <th>2280144</th>\n      <td>128</td>\n      <td>20</td>\n      <td>1</td>\n      <td>10</td>\n      <td>16</td>\n      <td>19</td>\n      <td>1394.56</td>\n      <td>205.03</td>\n      <td>1379.26</td>\n      <td>1.16</td>\n      <td>79212</td>\n      <td>Aeropuerto</td>\n      <td>79041</td>\n      <td>Recoletos</td>\n      <td>2020</td>\n      <td>2020-01-10 16:00:00</td>\n      <td>16-19</td>\n      <td>4</td>\n      <td>Friday</td>\n    </tr>\n  </tbody>\n</table>\n<p>362 rows × 19 columns</p>\n</div>"
     },
     "execution_count": 62,
     "metadata": {},
     "output_type": "execute_result"
    }
   ],
   "source": [
    "data_filtered"
   ],
   "metadata": {
    "collapsed": false
   }
  },
  {
   "cell_type": "code",
   "execution_count": 69,
   "outputs": [
    {
     "data": {
      "text/plain": "   day_of_week_str day_period  mean_travel_time\n0           Friday        0-7          8.000000\n1           Friday      10-16         10.800000\n2           Friday      16-19          9.433333\n3           Friday       19-0          9.716667\n4           Friday       7-10          9.916667\n5           Monday        0-7          8.166667\n6           Monday      10-16          9.100000\n7           Monday      16-19          9.033333\n8           Monday       19-0          8.750000\n9           Monday       7-10         10.866667\n10        Saturday        0-7          9.416667\n11        Saturday      10-16          9.316667\n12        Saturday      16-19          8.400000\n13        Saturday       19-0          9.833333\n14        Saturday       7-10          7.266667\n15          Sunday        0-7          9.766667\n16          Sunday      10-16          9.266667\n17          Sunday      16-19          8.550000\n18          Sunday       19-0          9.350000\n19          Sunday       7-10          7.283333\n20        Thursday        0-7          7.666667\n21        Thursday      10-16          9.533333\n22        Thursday      16-19         10.183333\n23        Thursday       19-0          9.466667\n24        Thursday       7-10         10.366667\n25         Tuesday        0-7          7.516667\n26         Tuesday      10-16          9.316667\n27         Tuesday      16-19          9.666667\n28         Tuesday       19-0          9.100000\n29         Tuesday       7-10         10.966667\n30       Wednesday        0-7          9.200000\n31       Wednesday      10-16          9.583333\n32       Wednesday      16-19          9.700000\n33       Wednesday       19-0          9.250000\n34       Wednesday       7-10         10.850000",
      "text/html": "<div>\n<style scoped>\n    .dataframe tbody tr th:only-of-type {\n        vertical-align: middle;\n    }\n\n    .dataframe tbody tr th {\n        vertical-align: top;\n    }\n\n    .dataframe thead th {\n        text-align: right;\n    }\n</style>\n<table border=\"1\" class=\"dataframe\">\n  <thead>\n    <tr style=\"text-align: right;\">\n      <th></th>\n      <th>day_of_week_str</th>\n      <th>day_period</th>\n      <th>mean_travel_time</th>\n    </tr>\n  </thead>\n  <tbody>\n    <tr>\n      <th>0</th>\n      <td>Friday</td>\n      <td>0-7</td>\n      <td>8.000000</td>\n    </tr>\n    <tr>\n      <th>1</th>\n      <td>Friday</td>\n      <td>10-16</td>\n      <td>10.800000</td>\n    </tr>\n    <tr>\n      <th>2</th>\n      <td>Friday</td>\n      <td>16-19</td>\n      <td>9.433333</td>\n    </tr>\n    <tr>\n      <th>3</th>\n      <td>Friday</td>\n      <td>19-0</td>\n      <td>9.716667</td>\n    </tr>\n    <tr>\n      <th>4</th>\n      <td>Friday</td>\n      <td>7-10</td>\n      <td>9.916667</td>\n    </tr>\n    <tr>\n      <th>5</th>\n      <td>Monday</td>\n      <td>0-7</td>\n      <td>8.166667</td>\n    </tr>\n    <tr>\n      <th>6</th>\n      <td>Monday</td>\n      <td>10-16</td>\n      <td>9.100000</td>\n    </tr>\n    <tr>\n      <th>7</th>\n      <td>Monday</td>\n      <td>16-19</td>\n      <td>9.033333</td>\n    </tr>\n    <tr>\n      <th>8</th>\n      <td>Monday</td>\n      <td>19-0</td>\n      <td>8.750000</td>\n    </tr>\n    <tr>\n      <th>9</th>\n      <td>Monday</td>\n      <td>7-10</td>\n      <td>10.866667</td>\n    </tr>\n    <tr>\n      <th>10</th>\n      <td>Saturday</td>\n      <td>0-7</td>\n      <td>9.416667</td>\n    </tr>\n    <tr>\n      <th>11</th>\n      <td>Saturday</td>\n      <td>10-16</td>\n      <td>9.316667</td>\n    </tr>\n    <tr>\n      <th>12</th>\n      <td>Saturday</td>\n      <td>16-19</td>\n      <td>8.400000</td>\n    </tr>\n    <tr>\n      <th>13</th>\n      <td>Saturday</td>\n      <td>19-0</td>\n      <td>9.833333</td>\n    </tr>\n    <tr>\n      <th>14</th>\n      <td>Saturday</td>\n      <td>7-10</td>\n      <td>7.266667</td>\n    </tr>\n    <tr>\n      <th>15</th>\n      <td>Sunday</td>\n      <td>0-7</td>\n      <td>9.766667</td>\n    </tr>\n    <tr>\n      <th>16</th>\n      <td>Sunday</td>\n      <td>10-16</td>\n      <td>9.266667</td>\n    </tr>\n    <tr>\n      <th>17</th>\n      <td>Sunday</td>\n      <td>16-19</td>\n      <td>8.550000</td>\n    </tr>\n    <tr>\n      <th>18</th>\n      <td>Sunday</td>\n      <td>19-0</td>\n      <td>9.350000</td>\n    </tr>\n    <tr>\n      <th>19</th>\n      <td>Sunday</td>\n      <td>7-10</td>\n      <td>7.283333</td>\n    </tr>\n    <tr>\n      <th>20</th>\n      <td>Thursday</td>\n      <td>0-7</td>\n      <td>7.666667</td>\n    </tr>\n    <tr>\n      <th>21</th>\n      <td>Thursday</td>\n      <td>10-16</td>\n      <td>9.533333</td>\n    </tr>\n    <tr>\n      <th>22</th>\n      <td>Thursday</td>\n      <td>16-19</td>\n      <td>10.183333</td>\n    </tr>\n    <tr>\n      <th>23</th>\n      <td>Thursday</td>\n      <td>19-0</td>\n      <td>9.466667</td>\n    </tr>\n    <tr>\n      <th>24</th>\n      <td>Thursday</td>\n      <td>7-10</td>\n      <td>10.366667</td>\n    </tr>\n    <tr>\n      <th>25</th>\n      <td>Tuesday</td>\n      <td>0-7</td>\n      <td>7.516667</td>\n    </tr>\n    <tr>\n      <th>26</th>\n      <td>Tuesday</td>\n      <td>10-16</td>\n      <td>9.316667</td>\n    </tr>\n    <tr>\n      <th>27</th>\n      <td>Tuesday</td>\n      <td>16-19</td>\n      <td>9.666667</td>\n    </tr>\n    <tr>\n      <th>28</th>\n      <td>Tuesday</td>\n      <td>19-0</td>\n      <td>9.100000</td>\n    </tr>\n    <tr>\n      <th>29</th>\n      <td>Tuesday</td>\n      <td>7-10</td>\n      <td>10.966667</td>\n    </tr>\n    <tr>\n      <th>30</th>\n      <td>Wednesday</td>\n      <td>0-7</td>\n      <td>9.200000</td>\n    </tr>\n    <tr>\n      <th>31</th>\n      <td>Wednesday</td>\n      <td>10-16</td>\n      <td>9.583333</td>\n    </tr>\n    <tr>\n      <th>32</th>\n      <td>Wednesday</td>\n      <td>16-19</td>\n      <td>9.700000</td>\n    </tr>\n    <tr>\n      <th>33</th>\n      <td>Wednesday</td>\n      <td>19-0</td>\n      <td>9.250000</td>\n    </tr>\n    <tr>\n      <th>34</th>\n      <td>Wednesday</td>\n      <td>7-10</td>\n      <td>10.850000</td>\n    </tr>\n  </tbody>\n</table>\n</div>"
     },
     "execution_count": 69,
     "metadata": {},
     "output_type": "execute_result"
    }
   ],
   "source": [
    "# Bar chart of the average travel time for every weekday, and period of the day\n",
    "data_grouped = data.groupby([\"day_of_week_str\",\"day_period\"]).agg({\"mean_travel_time\":\"mean\"}).reset_index()\n",
    "data_grouped.mean_travel_time = data_grouped.mean_travel_time.astype(int)/60\n",
    "data_grouped"
   ],
   "metadata": {
    "collapsed": false
   }
  },
  {
   "cell_type": "code",
   "execution_count": 63,
   "outputs": [
    {
     "data": {
      "text/plain": "     CODBDT  GEOCODIGO  MOVEMENT_ID DISPLAY_NAME  \\\n19   860664      79041           20    Recoletos   \n127  860772      79212          128   Aeropuerto   \n\n                                              geometry  \n19   POLYGON ((-3.69247 40.41947, -3.69267 40.41945...  \n127  POLYGON ((-3.54210 40.49437, -3.54197 40.49428...  ",
      "text/html": "<div>\n<style scoped>\n    .dataframe tbody tr th:only-of-type {\n        vertical-align: middle;\n    }\n\n    .dataframe tbody tr th {\n        vertical-align: top;\n    }\n\n    .dataframe thead th {\n        text-align: right;\n    }\n</style>\n<table border=\"1\" class=\"dataframe\">\n  <thead>\n    <tr style=\"text-align: right;\">\n      <th></th>\n      <th>CODBDT</th>\n      <th>GEOCODIGO</th>\n      <th>MOVEMENT_ID</th>\n      <th>DISPLAY_NAME</th>\n      <th>geometry</th>\n    </tr>\n  </thead>\n  <tbody>\n    <tr>\n      <th>19</th>\n      <td>860664</td>\n      <td>79041</td>\n      <td>20</td>\n      <td>Recoletos</td>\n      <td>POLYGON ((-3.69247 40.41947, -3.69267 40.41945...</td>\n    </tr>\n    <tr>\n      <th>127</th>\n      <td>860772</td>\n      <td>79212</td>\n      <td>128</td>\n      <td>Aeropuerto</td>\n      <td>POLYGON ((-3.54210 40.49437, -3.54197 40.49428...</td>\n    </tr>\n  </tbody>\n</table>\n</div>"
     },
     "execution_count": 63,
     "metadata": {},
     "output_type": "execute_result"
    }
   ],
   "source": [
    "# get codes where DISPLAY_NAME is Aeropuerto and Recoletos\n",
    "src_dst = codes[(codes.DISPLAY_NAME == \"Aeropuerto\") | (codes.DISPLAY_NAME == \"Recoletos\")]\n",
    "\n",
    "src_dst"
   ],
   "metadata": {
    "collapsed": false
   }
  },
  {
   "cell_type": "code",
   "execution_count": 64,
   "outputs": [
    {
     "data": {
      "text/plain": "DeltaGenerator(_root_container=0, _provided_cursor=None, _parent=None, _block_type=None, _form_data=None)"
     },
     "execution_count": 64,
     "metadata": {},
     "output_type": "execute_result"
    }
   ],
   "source": [
    "import streamlit as st\n",
    "import plotly.express as px\n",
    "\n",
    "# Define the two locations\n",
    "locations = {'New York City': [40.7128, -74.0060], 'London': [51.5074, -0.1278]}\n",
    "\n",
    "# Create a Plotly figure object with a map\n",
    "fig = px.scatter_mapbox(locations, lat=[loc[0] for loc in locations.values()], lon=[loc[1] for loc in locations.values()], hover_name=list(locations.keys()), zoom=2)\n",
    "\n",
    "# Add markers for the two locations\n",
    "fig.add_scattermapbox(lat=[locations['New York City'][0], locations['London'][0]], lon=[locations['New York City'][1], locations['London'][1]], mode='markers', marker=dict(color='red', size=10))\n",
    "\n",
    "# Set the layout of the figure\n",
    "fig.update_layout(mapbox_style='open-street-map', margin=dict(l=0, r=0, t=0, b=0))\n",
    "\n",
    "# Display the map in Streamlit using the Plotly PlotlyChart component\n",
    "st.set_page_config(layout=\"wide\")\n",
    "st.title('Map with Two Locations')\n",
    "st.plotly_chart(fig)"
   ],
   "metadata": {
    "collapsed": false
   }
  }
 ],
 "metadata": {
  "kernelspec": {
   "display_name": "Python 3",
   "language": "python",
   "name": "python3"
  },
  "language_info": {
   "codemirror_mode": {
    "name": "ipython",
    "version": 2
   },
   "file_extension": ".py",
   "mimetype": "text/x-python",
   "name": "python",
   "nbconvert_exporter": "python",
   "pygments_lexer": "ipython2",
   "version": "2.7.6"
  }
 },
 "nbformat": 4,
 "nbformat_minor": 0
}
